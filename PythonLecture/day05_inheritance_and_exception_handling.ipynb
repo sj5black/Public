{
  "cells": [
    {
      "cell_type": "markdown",
      "metadata": {
        "id": "mZoepzGCkfk8"
      },
      "source": [
        "# 7.파이썬의 클래스"
      ]
    },
    {
      "cell_type": "code",
      "execution_count": 2,
      "metadata": {},
      "outputs": [
        {
          "name": "stdout",
          "output_type": "stream",
          "text": [
            "Help on class int in module builtins:\n",
            "\n",
            "class int(object)\n",
            " |  int([x]) -> integer\n",
            " |  int(x, base=10) -> integer\n",
            " |\n",
            " |  Convert a number or string to an integer, or return 0 if no arguments\n",
            " |  are given.  If x is a number, return x.__int__().  For floating point\n",
            " |  numbers, this truncates towards zero.\n",
            " |\n",
            " |  If x is not a number or if base is given, then x must be a string,\n",
            " |  bytes, or bytearray instance representing an integer literal in the\n",
            " |  given base.  The literal can be preceded by '+' or '-' and be surrounded\n",
            " |  by whitespace.  The base defaults to 10.  Valid bases are 0 and 2-36.\n",
            " |  Base 0 means to interpret the base from the string as an integer literal.\n",
            " |  >>> int('0b100', base=0)\n",
            " |  4\n",
            " |\n",
            " |  Built-in subclasses:\n",
            " |      bool\n",
            " |\n",
            " |  Methods defined here:\n",
            " |\n",
            " |  __abs__(self, /)\n",
            " |      abs(self)\n",
            " |\n",
            " |  __add__(self, value, /)\n",
            " |      Return self+value.\n",
            " |\n",
            " |  __and__(self, value, /)\n",
            " |      Return self&value.\n",
            " |\n",
            " |  __bool__(self, /)\n",
            " |      True if self else False\n",
            " |\n",
            " |  __ceil__(...)\n",
            " |      Ceiling of an Integral returns itself.\n",
            " |\n",
            " |  __divmod__(self, value, /)\n",
            " |      Return divmod(self, value).\n",
            " |\n",
            " |  __eq__(self, value, /)\n",
            " |      Return self==value.\n",
            " |\n",
            " |  __float__(self, /)\n",
            " |      float(self)\n",
            " |\n",
            " |  __floor__(...)\n",
            " |      Flooring an Integral returns itself.\n",
            " |\n",
            " |  __floordiv__(self, value, /)\n",
            " |      Return self//value.\n",
            " |\n",
            " |  __format__(self, format_spec, /)\n",
            " |      Convert to a string according to format_spec.\n",
            " |\n",
            " |  __ge__(self, value, /)\n",
            " |      Return self>=value.\n",
            " |\n",
            " |  __getattribute__(self, name, /)\n",
            " |      Return getattr(self, name).\n",
            " |\n",
            " |  __getnewargs__(self, /)\n",
            " |\n",
            " |  __gt__(self, value, /)\n",
            " |      Return self>value.\n",
            " |\n",
            " |  __hash__(self, /)\n",
            " |      Return hash(self).\n",
            " |\n",
            " |  __index__(self, /)\n",
            " |      Return self converted to an integer, if self is suitable for use as an index into a list.\n",
            " |\n",
            " |  __int__(self, /)\n",
            " |      int(self)\n",
            " |\n",
            " |  __invert__(self, /)\n",
            " |      ~self\n",
            " |\n",
            " |  __le__(self, value, /)\n",
            " |      Return self<=value.\n",
            " |\n",
            " |  __lshift__(self, value, /)\n",
            " |      Return self<<value.\n",
            " |\n",
            " |  __lt__(self, value, /)\n",
            " |      Return self<value.\n",
            " |\n",
            " |  __mod__(self, value, /)\n",
            " |      Return self%value.\n",
            " |\n",
            " |  __mul__(self, value, /)\n",
            " |      Return self*value.\n",
            " |\n",
            " |  __ne__(self, value, /)\n",
            " |      Return self!=value.\n",
            " |\n",
            " |  __neg__(self, /)\n",
            " |      -self\n",
            " |\n",
            " |  __or__(self, value, /)\n",
            " |      Return self|value.\n",
            " |\n",
            " |  __pos__(self, /)\n",
            " |      +self\n",
            " |\n",
            " |  __pow__(self, value, mod=None, /)\n",
            " |      Return pow(self, value, mod).\n",
            " |\n",
            " |  __radd__(self, value, /)\n",
            " |      Return value+self.\n",
            " |\n",
            " |  __rand__(self, value, /)\n",
            " |      Return value&self.\n",
            " |\n",
            " |  __rdivmod__(self, value, /)\n",
            " |      Return divmod(value, self).\n",
            " |\n",
            " |  __repr__(self, /)\n",
            " |      Return repr(self).\n",
            " |\n",
            " |  __rfloordiv__(self, value, /)\n",
            " |      Return value//self.\n",
            " |\n",
            " |  __rlshift__(self, value, /)\n",
            " |      Return value<<self.\n",
            " |\n",
            " |  __rmod__(self, value, /)\n",
            " |      Return value%self.\n",
            " |\n",
            " |  __rmul__(self, value, /)\n",
            " |      Return value*self.\n",
            " |\n",
            " |  __ror__(self, value, /)\n",
            " |      Return value|self.\n",
            " |\n",
            " |  __round__(...)\n",
            " |      Rounding an Integral returns itself.\n",
            " |\n",
            " |      Rounding with an ndigits argument also returns an integer.\n",
            " |\n",
            " |  __rpow__(self, value, mod=None, /)\n",
            " |      Return pow(value, self, mod).\n",
            " |\n",
            " |  __rrshift__(self, value, /)\n",
            " |      Return value>>self.\n",
            " |\n",
            " |  __rshift__(self, value, /)\n",
            " |      Return self>>value.\n",
            " |\n",
            " |  __rsub__(self, value, /)\n",
            " |      Return value-self.\n",
            " |\n",
            " |  __rtruediv__(self, value, /)\n",
            " |      Return value/self.\n",
            " |\n",
            " |  __rxor__(self, value, /)\n",
            " |      Return value^self.\n",
            " |\n",
            " |  __sizeof__(self, /)\n",
            " |      Returns size in memory, in bytes.\n",
            " |\n",
            " |  __sub__(self, value, /)\n",
            " |      Return self-value.\n",
            " |\n",
            " |  __truediv__(self, value, /)\n",
            " |      Return self/value.\n",
            " |\n",
            " |  __trunc__(...)\n",
            " |      Truncating an Integral returns itself.\n",
            " |\n",
            " |  __xor__(self, value, /)\n",
            " |      Return self^value.\n",
            " |\n",
            " |  as_integer_ratio(self, /)\n",
            " |      Return a pair of integers, whose ratio is equal to the original int.\n",
            " |\n",
            " |      The ratio is in lowest terms and has a positive denominator.\n",
            " |\n",
            " |      >>> (10).as_integer_ratio()\n",
            " |      (10, 1)\n",
            " |      >>> (-10).as_integer_ratio()\n",
            " |      (-10, 1)\n",
            " |      >>> (0).as_integer_ratio()\n",
            " |      (0, 1)\n",
            " |\n",
            " |  bit_count(self, /)\n",
            " |      Number of ones in the binary representation of the absolute value of self.\n",
            " |\n",
            " |      Also known as the population count.\n",
            " |\n",
            " |      >>> bin(13)\n",
            " |      '0b1101'\n",
            " |      >>> (13).bit_count()\n",
            " |      3\n",
            " |\n",
            " |  bit_length(self, /)\n",
            " |      Number of bits necessary to represent self in binary.\n",
            " |\n",
            " |      >>> bin(37)\n",
            " |      '0b100101'\n",
            " |      >>> (37).bit_length()\n",
            " |      6\n",
            " |\n",
            " |  conjugate(...)\n",
            " |      Returns self, the complex conjugate of any int.\n",
            " |\n",
            " |  is_integer(self, /)\n",
            " |      Returns True. Exists for duck type compatibility with float.is_integer.\n",
            " |\n",
            " |  to_bytes(self, /, length=1, byteorder='big', *, signed=False)\n",
            " |      Return an array of bytes representing an integer.\n",
            " |\n",
            " |      length\n",
            " |        Length of bytes object to use.  An OverflowError is raised if the\n",
            " |        integer is not representable with the given number of bytes.  Default\n",
            " |        is length 1.\n",
            " |      byteorder\n",
            " |        The byte order used to represent the integer.  If byteorder is 'big',\n",
            " |        the most significant byte is at the beginning of the byte array.  If\n",
            " |        byteorder is 'little', the most significant byte is at the end of the\n",
            " |        byte array.  To request the native byte order of the host system, use\n",
            " |        `sys.byteorder' as the byte order value.  Default is to use 'big'.\n",
            " |      signed\n",
            " |        Determines whether two's complement is used to represent the integer.\n",
            " |        If signed is False and a negative integer is given, an OverflowError\n",
            " |        is raised.\n",
            " |\n",
            " |  ----------------------------------------------------------------------\n",
            " |  Class methods defined here:\n",
            " |\n",
            " |  from_bytes(bytes, byteorder='big', *, signed=False)\n",
            " |      Return the integer represented by the given array of bytes.\n",
            " |\n",
            " |      bytes\n",
            " |        Holds the array of bytes to convert.  The argument must either\n",
            " |        support the buffer protocol or be an iterable object producing bytes.\n",
            " |        Bytes and bytearray are examples of built-in objects that support the\n",
            " |        buffer protocol.\n",
            " |      byteorder\n",
            " |        The byte order used to represent the integer.  If byteorder is 'big',\n",
            " |        the most significant byte is at the beginning of the byte array.  If\n",
            " |        byteorder is 'little', the most significant byte is at the end of the\n",
            " |        byte array.  To request the native byte order of the host system, use\n",
            " |        `sys.byteorder' as the byte order value.  Default is to use 'big'.\n",
            " |      signed\n",
            " |        Indicates whether two's complement is used to represent the integer.\n",
            " |\n",
            " |  ----------------------------------------------------------------------\n",
            " |  Static methods defined here:\n",
            " |\n",
            " |  __new__(*args, **kwargs)\n",
            " |      Create and return a new object.  See help(type) for accurate signature.\n",
            " |\n",
            " |  ----------------------------------------------------------------------\n",
            " |  Data descriptors defined here:\n",
            " |\n",
            " |  denominator\n",
            " |      the denominator of a rational number in lowest terms\n",
            " |\n",
            " |  imag\n",
            " |      the imaginary part of a complex number\n",
            " |\n",
            " |  numerator\n",
            " |      the numerator of a rational number in lowest terms\n",
            " |\n",
            " |  real\n",
            " |      the real part of a complex number\n",
            "\n"
          ]
        }
      ],
      "source": [
        "help(int)"
      ]
    },
    {
      "cell_type": "markdown",
      "metadata": {
        "id": "co_EH3TINa6_"
      },
      "source": [
        "## 7.2 상속"
      ]
    },
    {
      "cell_type": "markdown",
      "metadata": {
        "id": "goP2BMG0lZcr"
      },
      "source": [
        "### 7.2.1 상속이란?\n",
        "\n",
        "파이썬에서는 어떤 클래스가 가지고 있는 기능을 그대로 물려받아 사용할 수 있는 클래스를 만들 수 있음.  \n",
        "다른 클래스의 기능을 물려받을 때 상속받는다는 표현 사용.  \n",
        "그래서 상속 관계에 있는 클래스를 표현할 때 부모, 자식클래스라는 단어 사용.  \n",
        "\n",
        "아래는 상속 관계 클래스를 나타내는 용어\n",
        "\n",
        "|구분|부모 클래스|자식 클래스|\n",
        "|----- |-----------------------------------------------------|---------------------|\n",
        "|의미  |상속해주는 클래스                                    |상속받는 클래스       |\n",
        "|용어  |슈퍼 클래스(super class) <br><br> 기반 클래스(base class)   |서브 클래스(sub class) <br><br> 파생 클래스(derived class)|\n",
        "\n",
        "파이썬에선 super라는 키워드는 부모 클래스를 지정하는 용도로 사용."
      ]
    },
    {
      "cell_type": "markdown",
      "metadata": {
        "id": "l5jLbftAQfiz"
      },
      "source": [
        "### 7.2.2 상속 관계 구현\n",
        "\n",
        "기본적으로 두 클래스가 상속 관계에 놓이려면 IS-A 관계가 성립.  \n",
        "IS-A 관계란 '~은 ~이다.'로 해석될 수 있는 관계.  \n",
        "예를 들면 '학생은 사람이다'.처럼 해석되는 관계가 IS-A 관계.  \n",
        "<br>\n",
        "'학생은 사람이다'를 'Student is a Person'으로 해석 가능.  \n",
        "이때, Student는 자식 클래스가 되고, Person은 슈퍼 클래스.  \n",
        "슈퍼 클래스는 일반 클래스처럼 구현하면 되지만,  \n",
        "서브 클래스는 어떤 슈퍼 클래스를 상속받는지 명시할 수 있도록 새로운 문법 사용.  \n",
        "\n",
        "상속의 기본적인 형식은 다음과 같음.\n",
        "```python\n",
        "class 부모 클래스:\n",
        "  본문\n",
        "\n",
        "class 자식 클래스(슈퍼 클래스):\n",
        "  본문\n",
        "```\n",
        "자식 클래스 구현 시 괄호 안에 어떤 부모 클래스를 상속받는지 명시.  \n",
        "상속 관계에 놓은 서브 클래스는 마치 자신의 것처럼 슈퍼 클래스 기능 사용 가능."
      ]
    },
    {
      "cell_type": "markdown",
      "metadata": {
        "id": "9VJ9h2qjglLT"
      },
      "source": [
        "### 7.2.3 자식 클래스의 \\_\\_init\\_\\_()\n",
        "\n",
        "자식 클래스는 부모 클래스가 없으면 존재할 수 없음.  \n",
        "부모가 존재해야 자식도 존재.  \n",
        "따라서 자식 클래스의 생성자 구현 시  \n",
        "반드시 부모 클래스의 생성자를 호출하는 코드를 작성해야만 함.  \n",
        "\n",
        "Student 클래스의 생성자인 \\_\\_init\\_\\_() 메소드의 예시\n",
        "```python\n",
        "def __init__(self, name, school):\n",
        "  super().__init__(name)\n",
        "  self.school = school\n",
        "```\n",
        "\n",
        "super라는 키워드는 부모 클래스 의미.  \n",
        "Student를 생성하기 위해 Student의 생성자를 호출하면  \n",
        "super().\\_\\_init\\_\\_(name)에 의해 부모 클래스인 Person의 생성자가 먼저 호출되면서 부모 클래스 생성.  \n",
        "부모 클래스의 Person 생성에는 name이 필요하므로 name이 함께 전달.  \n",
        "이 과정으로 부모 클래스 Person의 생성이 끝나면  \n",
        "이제 자식 클래스 Student도 school의 값을 저장하며 생성."
      ]
    },
    {
      "cell_type": "code",
      "execution_count": 6,
      "metadata": {},
      "outputs": [],
      "source": [
        "class Person:\n",
        "    def __init__(self, name, age):\n",
        "        self.name = name\n",
        "        self.age = age\n",
        "    \n",
        "    def show_name(self):\n",
        "        print(f'이름은 {self.name}입니다.')\n",
        "\n",
        "class Student(Person):\n",
        "    def __init__(self, name, age, school):\n",
        "        super().__init__(name, age)\n",
        "        self.school = school\n",
        "    \n",
        "    def show_school(self):\n",
        "        print(f'학교는 {self.school}입니다.')"
      ]
    },
    {
      "cell_type": "code",
      "execution_count": 8,
      "metadata": {},
      "outputs": [],
      "source": [
        "student1 = Student('홍길동', 20, '서울고')"
      ]
    },
    {
      "cell_type": "code",
      "execution_count": 14,
      "metadata": {},
      "outputs": [
        {
          "name": "stdout",
          "output_type": "stream",
          "text": [
            "학교는 서울고입니다.\n",
            "이름은 20입니다.\n"
          ]
        }
      ],
      "source": [
        "student1.show_school()\n",
        "student1.show_name()"
      ]
    },
    {
      "cell_type": "markdown",
      "metadata": {
        "id": "QuCYU56VhOqu"
      },
      "source": [
        "### 7.2.4 자식 클래스의 인스턴스 자료형\n",
        "\n",
        "부모 클래스 객체는 부모 클래스의 인스턴스.  \n",
        "그에 비해 자식 클래스 객체는 자식 클래스의 인스턴스이면서 동시에 부모 클래스의 인스턴스.  \n",
        "즉, 자식 클래스 Student의 객체는 자식 클래스 Student의 인스턴스이면서  \n",
        "동시에 부모 클래스 Person의 인스턴스.  \n",
        "potter = Student('해리포터', '호그와트') 코드로 생성한 potter는  \n",
        "Student의 인스턴스이면서 동시에 Person의 인스턴스.  \n",
        "즉 potter가 Student가 될 수 있고, Person이 될 수도 있음.\n",
        "\n",
        "어떤 객체가 어떤 클래스의 인스턴스인지 확인하기 위해 isinstance() 함수를 사용.  \n",
        "기본적인 사용법은 아래와 같음.\n",
        "\n",
        "```python\n",
        "isinstance(객체, 클래스)\n",
        "```\n",
        "\n",
        "isinstance()함수는 객체가 클래스의 인스턴스인 경우 True, 아니면 False를 반환."
      ]
    },
    {
      "cell_type": "code",
      "execution_count": 12,
      "metadata": {},
      "outputs": [
        {
          "name": "stdout",
          "output_type": "stream",
          "text": [
            "True\n",
            "True\n",
            "False\n",
            "True\n"
          ]
        }
      ],
      "source": [
        "print(isinstance(student1, Student))\n",
        "print(isinstance(student1, Person))\n",
        "print(isinstance(student1, list))\n",
        "print(isinstance(student1, object))"
      ]
    },
    {
      "cell_type": "markdown",
      "metadata": {
        "id": "g4XE3pmsehOr"
      },
      "source": [
        "### 7.2.5 오버라이딩\n",
        "\n",
        "부모 클래스에서 이미 정의된 메소드를 자식 클래스에서 다시 정의하는 것.  \n",
        "상속 후 메소드를 호출하게 되면 자식 클래스에서 다시 정의된 메소드를 사용.  \n",
        "이 경우, 부모 클래스에서 정의된 메소드는 사용 불가."
      ]
    },
    {
      "cell_type": "code",
      "execution_count": 15,
      "metadata": {},
      "outputs": [],
      "source": [
        "class Person:\n",
        "    def __init__(self, name, age):\n",
        "        self.name = name\n",
        "        self.age = age\n",
        "    \n",
        "    def show_name(self):\n",
        "        print(f'이름은 {self.name}입니다.')\n",
        "\n",
        "class Student(Person):\n",
        "    def __init__(self, name, age, school):\n",
        "        super().__init__(name, age)\n",
        "        self.school = school\n",
        "    \n",
        "    def show_school(self):\n",
        "        print(f'학교는 {self.school}입니다.')\n",
        "    \n",
        "    def show_name(self):\n",
        "        print(f'나의 이름은 {self.name}입니다.')"
      ]
    },
    {
      "cell_type": "code",
      "execution_count": 16,
      "metadata": {},
      "outputs": [],
      "source": [
        "student = Student('홍길동', 20, '서울고')"
      ]
    },
    {
      "cell_type": "code",
      "execution_count": 17,
      "metadata": {},
      "outputs": [
        {
          "name": "stdout",
          "output_type": "stream",
          "text": [
            "나의 이름은 홍길동입니다.\n"
          ]
        }
      ],
      "source": [
        "student.show_name()"
      ]
    },
    {
      "cell_type": "markdown",
      "metadata": {
        "id": "E7EsB4dWyEqI"
      },
      "source": [
        "## 7.3 객체지향 4대 특성"
      ]
    },
    {
      "cell_type": "markdown",
      "metadata": {
        "id": "O7xWVUTIyJcj"
      },
      "source": [
        "### 캡슐화(Encapsulation)\n",
        "\n",
        "객체의 속성과 행위를 묶음.  \n",
        "실제 구현 내용 일부를 외부에 감춤."
      ]
    },
    {
      "cell_type": "markdown",
      "metadata": {
        "id": "aO3Dfcf_yUTk"
      },
      "source": [
        "### 상속(Inheritance)\n",
        "\n",
        "하위 클래스로 갈수록 구체화되는 것을 의미.\n",
        "\n"
      ]
    },
    {
      "cell_type": "markdown",
      "metadata": {
        "id": "Ofqewx78ykrS"
      },
      "source": [
        "### 다형성(Polymorphism)\n",
        "\n",
        "하나의 개체가 다양한 자료형에 속하는 것이 허가되는 성질."
      ]
    },
    {
      "cell_type": "markdown",
      "metadata": {
        "id": "-NiL6bBTyacC"
      },
      "source": [
        "### 추상화(Abstraction)\n",
        "\n",
        "공통적인 부분, 특징, 특성을 분리해 재조합하는 부분  \n",
        "다형성, 상속 모두 추상화에 속함"
      ]
    },
    {
      "cell_type": "markdown",
      "metadata": {
        "id": "N48V5dbaZThO"
      },
      "source": [
        "## 7.4 객체지향 개발 5대 원리"
      ]
    },
    {
      "cell_type": "markdown",
      "metadata": {
        "id": "V87bnf7RZXcV"
      },
      "source": [
        "### 단일책임원칙 (Single Responsibility Principle, SRP)\n",
        "\n",
        "작성된 클래스는 하나의 기능만 가지며 클래스가 제공하는 모든 서비스는  \n",
        "그 하나의 책임을 수행하는 데 집중되어야 한다는 원칙.  \n",
        "어떤 변화에 의해 클래스 변경 시 그 이유는 오직 하나 뿐이어야 함을 의미.  \n",
        "\n",
        "SRP 원리 적용 시 책임 영역이 분명하여 한 클래스의 변경이 다른 클래스에 영향을 주지 않아  \n",
        "예상치 못한 변경에서 자유로울 수 있음.  \n",
        "또한, 책임을 적절히 분배하여 코드의 가독성 향상 및 유지보수가 용이해지는 이점까지 누릴 수 있음.  \n",
        "개념이 비교적 단순하지만, 실무 프로세스는 상황이 매우 복잡, 다양하고  \n",
        "변경이 잦아 적용이 어려울 수 있음.\n",
        "\n",
        "```python\n",
        "class Warrior:\n",
        "    def __init__(self, id, server, level, power, agility, hp, mp):\n",
        "      self.id = id\n",
        "      self.server = server\n",
        "      self.level = level\n",
        "      self.power = power\n",
        "      self.agility = agility\n",
        "      self.hp = hp\n",
        "      self.mp = mp\n",
        "```\n",
        "\n",
        "위 코드에서 id, server는 변화 요소가 아닌 고유 정보.  \n",
        "level, power, agility, hp, mp는 모두 특성 정보로  \n",
        "변경이 발생할 수 있는 부분이고, 변화 요소로 예상 가능.  \n",
        "따라서 특정 정보군에 변화가 발생하면 항상 해당 클래스를 수정해야  \n",
        "하는 부담이 발생하게 되기에, SRP 적용 대상이 될 수 있음.\n",
        "\n",
        "\n",
        "```python\n",
        "class Warrior:\n",
        "    def __init__(self, id, server, spec):\n",
        "      self.id = id\n",
        "      self.server = server\n",
        "      self.spec = spec\n",
        "    \n",
        "class WarriorSpec:\n",
        "  def __init__(self, power, agility, hp, mp):\n",
        "      self.power = power\n",
        "      self.agility = agility\n",
        "      self.hp = hp\n",
        "      self.mp = mp\n",
        "```\n",
        "위와 같이 WarriorSpec 클래스를 따로 만들게 되면,  \n",
        "특성 정보에 변경이 일어나면 WarriorSpec 클래스만 변경.  \n",
        "변화에 의해 변경되는 부분을 한 곳에서 관리 가능할 수 있고,  \n",
        "이로 코드 유지보수 용이."
      ]
    },
    {
      "cell_type": "markdown",
      "metadata": {
        "id": "LjRdEaboZXj6"
      },
      "source": [
        "### 개방폐쇄원칙 (Open-Close Principle, OCP)\n",
        "\n",
        "소프트웨어 구성요소(컴포넌트, 클래스, 모듈, 함수)는 확장에 열려있고,  \n",
        "변경에는 닫혀있어야 한다는 원리.  \n",
        "이는 변경을 위한 비용은 가능한 줄이고 확장을 위한 비용은 가능한 극대화 해야 한다는 의미로,  \n",
        "요구사항에 의한 변경이나 추가사항 발생 시, 기존 요소는 수정이 일어나지 말아야 하며,  \n",
        "기존 구성요소를 쉽게 확장해서 재사용할 수 있어야 한다는 뜻.\n",
        "\n",
        "<img src=\"https://velog.velcdn.com/images/harinnnnn/post/10489f56-5d4a-4ba8-a134-8da46e88283c/image.png\" width=\"800\" height=\"400\">\n",
        "\n",
        "\n",
        "\n",
        "```python\n",
        "class Character:\n",
        "    def __init__(self, id, server, spec):\n",
        "      self.id = id\n",
        "      self.server = server\n",
        "      self.spec = spec\n",
        "    \n",
        "class CharacterSpec:\n",
        "  def __init__(self, power, agility, hp, mp):\n",
        "      self.power = power\n",
        "      self.agility = agility\n",
        "      self.hp = hp\n",
        "      self.mp = mp\n",
        "```\n",
        "\n",
        "위 코드에서 SRP 원리를 적용해 문제가 없어 보일 수 있음.  \n",
        "그러나, 전사 외 마법사, 도적 등의 다른 직업을 다루게 될 시 대처 불가.  \n",
        "해결책으로 모든 직업에 대해 클래스를 만드는 것은 바람직하지 않음.  \n",
        "<br>\n",
        "기타 외 추가 될 다른 직업를 추상화하는 작업이 필요.  \n",
        "추가될 직업들의 공통 속성을 담을 수 있는 Character라는 클래스 생성.  \n",
        "\n",
        "```python\n",
        "class Character:\n",
        "    def __init__(self, id, server, spec):\n",
        "      self.id = id\n",
        "      self.server = server\n",
        "      self.spec = spec\n",
        "\n",
        "class CharacterSpec:\n",
        "  def __init__(self, power, agility, hp, mp):\n",
        "      self.power = power\n",
        "      self.agility = agility\n",
        "      self.hp = hp\n",
        "      self.mp = mp\n",
        "\n",
        "\n",
        "class Wizzard(Character):\n",
        "  ...\n",
        "    \n",
        "class WizzardSpec(CharacterSpec):\n",
        "  ...\n",
        "```\n",
        "\n",
        "새로운 캐릭터가 추가되면서 변경이 발생하는 부분을 추상화하여 분리.  "
      ]
    },
    {
      "cell_type": "markdown",
      "metadata": {
        "id": "1_hezrl_ZXqL"
      },
      "source": [
        "### 리스코프치환원칙 (Liskov Substitution Principle, LSP)\n",
        "\n",
        "부모 객체를 호출하는 동작에서 자식 객체가 부모 객체를 완전히 대체할 수 있어야 함.  \n",
        "즉, 상속되는 객체는 반드시 부모 객체를 완전히 대체할 수 있어야 함.  \n",
        "대표적인 예는 부모 클래스에서 정의한 타입과 다른 타입의 사용이 있음.\n",
        "\n",
        "![](https://velog.velcdn.com/images/harinnnnn/post/2f2c6e85-553f-4afa-83c1-2d2abf722cea/image.png)\n",
        "\n",
        "\n",
        "```python\n",
        "class Warrior:\n",
        "    def __init__(self, id, server, spec):\n",
        "      self.id = id\n",
        "      self.server = server\n",
        "      self.spec = spec\n",
        "\n",
        "    def attack(self, actions: list):\n",
        "      for action in actions:\n",
        "        print(action)\n",
        "\n",
        "\n",
        "class Spearman(Warrior):\n",
        "    def __init__(self, id, server, spec):\n",
        "      self.id = id\n",
        "      self.server = server\n",
        "      self.spec = spec\n",
        "\n",
        "    def attack(self, actions: dict):\n",
        "      for num, action in actions.items():\n",
        "        print(action)\n",
        "```\n",
        "\n",
        "위 코드에서 Warror를 통해 생성되는 객체의 attack은 list를 받으나  \n",
        "Spearman을 통해 생성되는 객체의 attack은 dictionary를 받음.  \n",
        "이 경우, LSP 원칙에 따르면 Warrior를 통해 생성된 객체를  \n",
        "Spearman을 통해 생성된 객체로 바꾸어도 문제가 없어야 하나,  \n",
        "위의 경우 자식에서는 dictionary를 받기에 list가 아니여서 문제 발생"
      ]
    },
    {
      "cell_type": "markdown",
      "metadata": {
        "id": "d30-ARxHZXyG"
      },
      "source": [
        "### 인터페이스분리원칙 (Interface Segregation Principle, ISP)\n",
        "\n",
        "한 클래스는 자신이 사용하지 않는 인터페이스는 구현하지 않아야 함.  \n",
        "인터페이스는 자바에서 사용하는 문법이나 파이썬에서는 지원하지 않음.  \n",
        "\n",
        "\n",
        "<span style=\"font-size: 15pt\"> 설계 위반 </span>\n",
        "\n",
        "![](https://velog.velcdn.com/images/harinnnnn/post/f56cf080-bd64-4714-86fa-05c2ed3dda33/image.png)\n",
        "\n",
        "\n",
        "<span style=\"font-size: 15pt\"> 원칙을 준수한 설계 </span>\n",
        "\n",
        "![](https://velog.velcdn.com/images/harinnnnn/post/f4c05e79-6559-4d32-a41e-57a0785be03f/image.png)"
      ]
    },
    {
      "cell_type": "markdown",
      "metadata": {
        "id": "FJdph7wuZX39"
      },
      "source": [
        "### 의존성역전원칙 (Dependency Inversion Principle, DIP)\n",
        "\n",
        "하위 레벨 모듈 변경이 상위 레벨 모듈 변경을 요구하는 위계관계를 끊는 의미의 원칙.  \n",
        "즉, 구체적 객체가 아닌 추상화에 의존.  \n",
        "파이썬에서는 데이터 타입이 존재하지 않기에 큰 문제가 발생하지는 않을 수 있음.\n",
        "\n",
        "<span style=\"font-size: 15pt\"> 설계 위반 </span>\n",
        "\n",
        "\n",
        "<img src=\"https://velog.velcdn.com/images/harinnnnn/post/5217fd08-c236-414a-812f-1b5977cda612/image.png\" width=\"800\" height=\"400\">\n",
        "\n",
        "\n",
        "<span style=\"font-size: 15pt\"> 원칙을 준수한 설계 </span>\n",
        "\n",
        "\n",
        "<img src=\"https://velog.velcdn.com/images/harinnnnn/post/c607b934-0641-470d-8a80-7235c2c17f5c/image.png\" width=\"800\" height=\"400\">"
      ]
    },
    {
      "cell_type": "code",
      "execution_count": 36,
      "metadata": {},
      "outputs": [
        {
          "name": "stdout",
          "output_type": "stream",
          "text": [
            "dna: sdjlsdfjklsd\n",
            "dna: jljxkcvxesed\n",
            "dna: flbjxvbkljlf\n",
            "dna: sjkltgjsklgj\n"
          ]
        }
      ],
      "source": [
        "# Dog class가 존재\n",
        "# Dog class의 속성으로 name, age가 존재\n",
        "\n",
        "# 포메라니안과 치와와 클래스를 Dog 클래스를 상속하여 구성\n",
        "# 포메라니안의 속성은 dna1이라는 속성이 추가됨\n",
        "# 치와와에는 dna2가 추가됨\n",
        "\n",
        "# 포메라니안 클래스의 함수에서는 print_dna라는 기능이 있어 dna 정보를 출력할 수 있음\n",
        "# 치와와 클래스의 함수에서는 print_dna라는 기능이 있어 dna 정보를 출력할 수 있음\n",
        "\n",
        "# 클래스 별로 최소 두 개 이상의 객체를 생성하되\n",
        "# 함수 하나만을 사용하여 모든 객체의 dna 정보를 출력할 수 있는 코드 작성\n",
        "\n",
        "class Dog:\n",
        "    def __init__(self, name, age):\n",
        "        self.name = name\n",
        "        self.age = age\n",
        "\n",
        "    def print_dna(self):\n",
        "        print(f'dna: {self.dna}')\n",
        "\n",
        "class Chiwawa(Dog):\n",
        "    def __init__(self, name, age, dna):\n",
        "        super().__init__(name, age)\n",
        "        self.dna = dna\n",
        "\n",
        "class Pomeranian(Dog):\n",
        "    def __init__(self, name, age, dna):\n",
        "        super().__init__(name, age)\n",
        "        self.dna = dna\n",
        "\n",
        "chiwawa1 = Chiwawa('chiwawa1', '1', 'sdjlsdfjklsd')\n",
        "chiwawa2 = Chiwawa('chiwawa2', '1', 'jljxkcvxesed')\n",
        "\n",
        "pomeranian1 = Pomeranian('pomeranian1', '1', 'flbjxvbkljlf')\n",
        "pomeranian2 = Pomeranian('pomeranian2', '1', 'sjkltgjsklgj')\n",
        "\n",
        "dogs = [chiwawa1, chiwawa2, pomeranian1, pomeranian2]\n",
        "\n",
        "def show_dna(dogs: list) -> None:\n",
        "    for dog in dogs:\n",
        "        dog.print_dna()\n",
        "\n",
        "show_dna(dogs)"
      ]
    },
    {
      "cell_type": "markdown",
      "metadata": {
        "id": "QYKtvX9aiAki"
      },
      "source": [
        "# 8.예외 처리"
      ]
    },
    {
      "cell_type": "markdown",
      "metadata": {
        "id": "gr5lkgNjiDJl"
      },
      "source": [
        "## 8.1 예외 처리의 필요성\n",
        "\n",
        "* 예외: 프로그램이 정상적으로 실행되는 과정에서 발생할 수 있는 예기치 않은 상황 \n",
        "* 오류: 주로 코드의 논리적 결함, 하드웨어 문제, 또는 환경 문제에서 발생. <br>\n",
        "보통 프로그램의 심각한 문제를 나타내며, 일반적으로 프로그램이 계속 실행될 수 없게 만듦\n",
        "<br>\n",
        "\n",
        "예외 처리는 예치 않은 상황으로 프로그램이 비정상적으로 종료되는 것을 막고  \n",
        "사용자에게 발생한 문제에 대한 정보를 전달하기 위함.\n"
      ]
    },
    {
      "cell_type": "markdown",
      "metadata": {
        "id": "2lcmbzwLiiez"
      },
      "source": [
        "## 8.2 예외 처리"
      ]
    },
    {
      "cell_type": "markdown",
      "metadata": {
        "id": "v6uOggS4isfO"
      },
      "source": [
        "### 8.2.1 고전적 예외 처리\n",
        "\n",
        "나누기 프로그램이 있다고 가정.  \n",
        "나눗셈은 0으로 나누는 것이 불가능.  \n",
        "이 경우, 지금까지 우리가 배운 것을 활용하면 아래와 같은 코드를 작성하게 될 것.  \n",
        "\n",
        "> ```python\n",
        "> a = int(intput())\n",
        "> b = int(intput())\n",
        "> \n",
        "> if b == 0:\n",
        ">   print('0으로 나누는 것은 불가능')\n",
        "> else:\n",
        ">   print(f'{a}/{b} = {a/b}')\n",
        "> ```\n",
        "위에서는 if b == 0을 이용해 0으로 나누는 연산을 사용하지 못하도록 처리.  \n",
        "하지만 위 방식은 다음과 같은 문제가 존재.\n",
        "\n",
        "1. 어떤 문제가 발생할지 예상할 수 있어야 대비 가능\n",
        "2. 어떤 문제가 발생할지 예상 가능하더라도 대비 불가능한 경우 존재\n",
        "\n",
        "규모가 작은 프로그램에서는 문제를 예상할 수 있겠지만,  \n",
        "규모가 크고 복잡해지면 모든 문제를 예상하는 것이 불가능.\n",
        "\n",
        "또한, 문제가 예상 가능하더라도 대비가 힘든 경우가 존재.  \n",
        "위에서는 정수가 정상적으로 입력된다는 가정 하에서 int 사용.  \n",
        "하지만 입력이 정수가 아니면 문제 발생.\n"
      ]
    },
    {
      "cell_type": "markdown",
      "metadata": {
        "id": "1QBMvS1Njo_r"
      },
      "source": [
        "### 8.2.2 예외 종류\n",
        "\n",
        "파이썬은 발생할 수 있는 모든 문제를 예외 클래스로 만들어 두었음.  \n",
        "기본적으로 예외 클래스는 BaseException 클래스의 자식 클래스.  \n",
        "BaseException 클래스의 자식 클래스 중에는 Exception 클래스가 있는데,  \n",
        "대부분 예외 클래스는 Exception 클래스의 자식 클래스.  \n",
        "아래는 주요 예외 클래스와 발생 원인.\n",
        "\n",
        "|  |      예외 클래스  |의미|\n",
        "|--|-------------------|------------------------------------------|\n",
        "| 1|      BaseException|최상이 예외 클래스|\n",
        "| 2|          Exception|대부분 예외 클래스의 부모 클래스|\n",
        "| 3|    ArithmeticError|산술 연산에 문제가 있을 때|\n",
        "| 4|     AttributeError|잘못된 송석을 참조할 때|\n",
        "| 5|           EOFError|파일에서 더 이상 읽어들일 데이터가 없을 때|\n",
        "| 6|ModuleNotFoundError|import할 모듈이 없을 때|\n",
        "| 7|  FileNotFoundError|존재하지 않는 파일일 때|\n",
        "| 8|         IndexError|잘못된 인덱스를 사용할 때|\n",
        "| 9|          NameError|잘못된 변수를 사용할 때|\n",
        "|10|        SyntaxError|문법이 틀렸을 때|\n",
        "|11|          TypeError|계산하려는 데이터의 유형이 잘못되었을 때|\n",
        "|12|         ValueError|계산하려는 데이터의 값이 잘못되었을 때|\n"
      ]
    },
    {
      "cell_type": "markdown",
      "metadata": {
        "id": "TAyHcb75lkhk"
      },
      "source": [
        "### 8.2.3 예외 처리 방식\n"
      ]
    },
    {
      "cell_type": "markdown",
      "metadata": {
        "id": "jUtdS3LVloUR"
      },
      "source": [
        "#### 모든 예외 처리\n",
        "\n",
        "> ```python\n",
        "> try:\n",
        ">   코드 작성\n",
        "> except:\n",
        ">   예외 발생 시 처리 영역\n",
        "> ```"
      ]
    },
    {
      "cell_type": "code",
      "execution_count": 3,
      "metadata": {},
      "outputs": [
        {
          "name": "stdout",
          "output_type": "stream",
          "text": [
            "1/2 = 0.5\n"
          ]
        }
      ],
      "source": [
        "try:\n",
        "    a = int(input())\n",
        "    b = int(input())\n",
        "    print(f'{a}/{b} = {a/b}')\n",
        "except Exception:\n",
        "    print('Error')"
      ]
    },
    {
      "cell_type": "markdown",
      "metadata": {
        "id": "bhJPaiDPl9ut"
      },
      "source": [
        "#### 특정 예외만 처리\n",
        "위의 예에서는 두 가지 에러가 존재\n",
        "1. 0으로 나누려고 하는 경우\n",
        "2. 정수가 아닌 값을 입력한 경우  \n",
        "\n",
        "하지만 위의 방식에서는 개별적으로 처리가 불가능.  \n",
        "따라서 에러별로 별도의 처리를 해줄 필요가 있을 시 사용.\n",
        "\n",
        "> ```python\n",
        "> try:\n",
        ">   코드 작성\n",
        "> except 에러1:\n",
        ">   예외 발생 시 처리 영역\n",
        "> except 에러2:\n",
        ">   예외 발생 시 처리 영역\n",
        "> ...\n",
        "> except Exception:\n",
        ">   예외 발생 시 처리 영역\n",
        "> ```"
      ]
    },
    {
      "cell_type": "code",
      "execution_count": 4,
      "metadata": {},
      "outputs": [
        {
          "ename": "ValueError",
          "evalue": "invalid literal for int() with base 10: '100d'",
          "output_type": "error",
          "traceback": [
            "\u001b[1;31m---------------------------------------------------------------------------\u001b[0m",
            "\u001b[1;31mValueError\u001b[0m                                Traceback (most recent call last)",
            "Cell \u001b[1;32mIn[4], line 1\u001b[0m\n\u001b[1;32m----> 1\u001b[0m \u001b[38;5;28mint\u001b[39m(\u001b[38;5;28minput\u001b[39m())\n",
            "\u001b[1;31mValueError\u001b[0m: invalid literal for int() with base 10: '100d'"
          ]
        }
      ],
      "source": [
        "int(input())"
      ]
    },
    {
      "cell_type": "code",
      "execution_count": 5,
      "metadata": {},
      "outputs": [
        {
          "ename": "ZeroDivisionError",
          "evalue": "division by zero",
          "output_type": "error",
          "traceback": [
            "\u001b[1;31m---------------------------------------------------------------------------\u001b[0m",
            "\u001b[1;31mZeroDivisionError\u001b[0m                         Traceback (most recent call last)",
            "Cell \u001b[1;32mIn[5], line 1\u001b[0m\n\u001b[1;32m----> 1\u001b[0m \u001b[38;5;241m1\u001b[39m\u001b[38;5;241m/\u001b[39m\u001b[38;5;241m0\u001b[39m\n",
            "\u001b[1;31mZeroDivisionError\u001b[0m: division by zero"
          ]
        }
      ],
      "source": [
        "1/0"
      ]
    },
    {
      "cell_type": "code",
      "execution_count": 7,
      "metadata": {},
      "outputs": [
        {
          "name": "stdout",
          "output_type": "stream",
          "text": [
            "숫자 변환 실패\n"
          ]
        }
      ],
      "source": [
        "try:\n",
        "    a = int(input())\n",
        "    b = int(input())\n",
        "    print(f'{a}/{b} = {a/b}')\n",
        "except ValueError:\n",
        "    print('숫자 변환 실패')\n",
        "except ZeroDivisionError:\n",
        "    print('0으로 나누기 시도')"
      ]
    },
    {
      "cell_type": "markdown",
      "metadata": {
        "id": "35z_IK4UmtLr"
      },
      "source": [
        "#### 예외 메세지 처리\n",
        "지금까지 모든 예외 메세지를 직접 만들어 사용.  \n",
        "하지만 모든 예외는 기본적으로 예외 메세지를 이미 가지고 있음.  \n",
        "예외들이 가지고 있는 메세지를 확인하려면 except문에 as절을 추가해서 사용.\n",
        "\n",
        "> ```python\n",
        "> try:\n",
        ">   코드 작성\n",
        "> except 예외 as 예외 메세지:\n",
        ">   예외 발생 시 처리 영역\n",
        "> ```"
      ]
    },
    {
      "cell_type": "code",
      "execution_count": 9,
      "metadata": {},
      "outputs": [
        {
          "name": "stdout",
          "output_type": "stream",
          "text": [
            "invalid literal for int() with base 10: 'a'\n"
          ]
        }
      ],
      "source": [
        "try:\n",
        "    a = int(input())\n",
        "    b = int(input())\n",
        "    print(f'{a}/{b} = {a/b}')\n",
        "except ValueError as error: # (error = ValueError)\n",
        "    print(error)\n",
        "except ZeroDivisionError as error:\n",
        "    print(error)"
      ]
    },
    {
      "cell_type": "markdown",
      "metadata": {
        "id": "M65hywT7nU5Q"
      },
      "source": [
        "#### else문과 finally문\n",
        "\n",
        "* else: 예외가 발생하지 않으면 처리되는 구문\n",
        "* finally: 예외 발생과 상관없이 항상 처리되는 구문\n",
        "\n",
        "> ```python\n",
        "> try:\n",
        ">   코드 작성\n",
        "> except:\n",
        ">   예외 발생 시 처리 영역\n",
        "> else:\n",
        ">   예외가 없을 시 처리 영역\n",
        "> finally:\n",
        ">   언제나 실행되는 영역\n",
        "> ```\n",
        "\n"
      ]
    },
    {
      "cell_type": "code",
      "execution_count": 12,
      "metadata": {},
      "outputs": [
        {
          "name": "stdout",
          "output_type": "stream",
          "text": [
            "invalid literal for int() with base 10: 'ㅁ'\n",
            "수행 완료\n"
          ]
        }
      ],
      "source": [
        "try:\n",
        "    a = int(input())\n",
        "    b = int(input())\n",
        "    print(f'{a}/{b} = {a/b}')\n",
        "except ValueError as error: # (error = ValueError)\n",
        "    print(error)\n",
        "except ZeroDivisionError as error:\n",
        "    print(error)\n",
        "except Exception as error:\n",
        "    print(error)\n",
        "else:\n",
        "    print('try 내 에러 없음')\n",
        "finally:\n",
        "    print('수행 완료')"
      ]
    },
    {
      "cell_type": "markdown",
      "metadata": {
        "id": "3Lj7aS8xn0DU"
      },
      "source": [
        "### 8.2.4 강제로 예외 발생시키기\n",
        "\n",
        "파이썬은 예외로 인식하지 못하지만 실제로 예외 경우가 존재.  \n",
        "<br>\n",
        "어떤 사람의 나이를 정수로 입력받는 프로그램이 있다고 가정.  \n",
        "사용자가 -1000을 입력해도 오류는 발생하지 않으나  \n",
        "-1000은 사람의 나이가 될 수 없으므로 예외가 발생되어야 함.  \n",
        "이때, 직접 예외를 만들어 발생시켜야 하며 raise문을 이용.\n",
        "\n",
        "> ```python\n",
        "> raise 예외 클래스()\n",
        "> \n",
        "> 또는\n",
        "> \n",
        "> raise 예외 클래스(예외 메세지)\n",
        "> ```"
      ]
    },
    {
      "cell_type": "code",
      "execution_count": 13,
      "metadata": {},
      "outputs": [
        {
          "ename": "ValueError",
          "evalue": "0보다 작은 값은 입력할 수 없습니다.",
          "output_type": "error",
          "traceback": [
            "\u001b[1;31m---------------------------------------------------------------------------\u001b[0m",
            "\u001b[1;31mValueError\u001b[0m                                Traceback (most recent call last)",
            "Cell \u001b[1;32mIn[13], line 3\u001b[0m\n\u001b[0;32m      1\u001b[0m a \u001b[38;5;241m=\u001b[39m \u001b[38;5;241m0\u001b[39m\n\u001b[0;32m      2\u001b[0m \u001b[38;5;28;01mif\u001b[39;00m a \u001b[38;5;241m<\u001b[39m\u001b[38;5;241m=\u001b[39m \u001b[38;5;241m0\u001b[39m:\n\u001b[1;32m----> 3\u001b[0m     \u001b[38;5;28;01mraise\u001b[39;00m \u001b[38;5;167;01mValueError\u001b[39;00m(\u001b[38;5;124m'\u001b[39m\u001b[38;5;124m0보다 작은 값은 입력할 수 없습니다.\u001b[39m\u001b[38;5;124m'\u001b[39m)\n",
            "\u001b[1;31mValueError\u001b[0m: 0보다 작은 값은 입력할 수 없습니다."
          ]
        }
      ],
      "source": [
        "a = 0\n",
        "if a <= 0:\n",
        "    raise ValueError('0보다 작은 값은 입력할 수 없습니다.')"
      ]
    },
    {
      "cell_type": "code",
      "execution_count": 14,
      "metadata": {},
      "outputs": [
        {
          "ename": "AssertionError",
          "evalue": "0보다 작은 값은 입력할 수 없습니다.",
          "output_type": "error",
          "traceback": [
            "\u001b[1;31m---------------------------------------------------------------------------\u001b[0m",
            "\u001b[1;31mAssertionError\u001b[0m                            Traceback (most recent call last)",
            "Cell \u001b[1;32mIn[14], line 2\u001b[0m\n\u001b[0;32m      1\u001b[0m a \u001b[38;5;241m=\u001b[39m \u001b[38;5;241m0\u001b[39m\n\u001b[1;32m----> 2\u001b[0m \u001b[38;5;28;01massert\u001b[39;00m a \u001b[38;5;241m>\u001b[39m \u001b[38;5;241m0\u001b[39m, \u001b[38;5;124m'\u001b[39m\u001b[38;5;124m0보다 작은 값은 입력할 수 없습니다.\u001b[39m\u001b[38;5;124m'\u001b[39m\n",
            "\u001b[1;31mAssertionError\u001b[0m: 0보다 작은 값은 입력할 수 없습니다."
          ]
        }
      ],
      "source": [
        "a = 0\n",
        "assert a > 0, '0보다 작은 값은 입력할 수 없습니다.'"
      ]
    },
    {
      "cell_type": "code",
      "execution_count": null,
      "metadata": {},
      "outputs": [],
      "source": [
        "## try-except을 통하여 refactoring\n",
        "\n",
        "def grade(user_input):\n",
        "    try:\n",
        "        user_input = int(user_input)\n",
        "\n",
        "        if user_input < 0 or user_input > 100:\n",
        "            print('입력된 숫자가 0보다 작거나 100보다 큽니다')\n",
        "            return\n",
        "\n",
        "        if user_input >= 90:\n",
        "            return 'A'\n",
        "        elif user_input >= 80:\n",
        "            return 'B'\n",
        "        elif user_input >= 70:\n",
        "            return 'C'\n",
        "        elif user_input >= 60:\n",
        "            return 'D'\n",
        "        else:\n",
        "            return 'F'\n",
        "    except ValueError:        \n",
        "        print('입력한 숫자를 확인하세요.')\n",
        "        print(f'현재 입력된 값은: {user_input}입니다.')\n",
        "    except Exception as error:\n",
        "        print(error)"
      ]
    },
    {
      "cell_type": "code",
      "execution_count": 16,
      "metadata": {},
      "outputs": [],
      "source": [
        "## 코드에서 문제가 되는 부분에서 강제로 에러를 발생시키는 코드를 작성\n",
        "\n",
        "def grade(user_input):\n",
        "    try:\n",
        "        user_input = int(user_input)\n",
        "\n",
        "        assert 0 <= user_input <= 100, '입력된 숫자가 0보다 작거나 100보다 큽니다'\n",
        "\n",
        "        if user_input >= 90:\n",
        "            return 'A'\n",
        "        elif user_input >= 80:\n",
        "            return 'B'\n",
        "        elif user_input >= 70:\n",
        "            return 'C'\n",
        "        elif user_input >= 60:\n",
        "            return 'D'\n",
        "        else:\n",
        "            return 'F'\n",
        "    except ValueError:        \n",
        "        print('입력한 숫자를 확인하세요.')\n",
        "        print(f'현재 입력된 값은: {user_input}입니다.')\n",
        "    except AssertionError:\n",
        "        print('입력값 확인')\n",
        "    except Exception as error:\n",
        "        print(error)"
      ]
    },
    {
      "cell_type": "markdown",
      "metadata": {},
      "source": [
        "# Practice"
      ]
    },
    {
      "cell_type": "markdown",
      "metadata": {},
      "source": [
        "## 1. Codeup 1535\n",
        "\n",
        "배열의 길이 n 입력  <br>\n",
        "n개의 원소를 사용자에게 받아 list 구성 <br>\n",
        "구성된 list 내의 가장 큰 값 중 첫 번째 값의 index를 return하는 함수 작성 <br>"
      ]
    },
    {
      "cell_type": "code",
      "execution_count": null,
      "metadata": {},
      "outputs": [],
      "source": [
        "n = int(input())\n",
        "\n",
        "list_ = []\n",
        "for _ in range(n):\n",
        "    list_.append(int(input()))\n",
        "\n",
        "max_element = max(list_)\n",
        "list_.index(max_element)"
      ]
    },
    {
      "cell_type": "markdown",
      "metadata": {},
      "source": [
        "## 2. \n",
        "\n",
        "위의 코드에서 \n",
        "\n",
        "```python\n",
        "n = int(input())\n",
        "```\n",
        "\n",
        "부분을 사용자가 정상적인 값을 입력할 때까지 입력을 강제하는 코드를 함수로 작성"
      ]
    },
    {
      "cell_type": "code",
      "execution_count": 38,
      "metadata": {},
      "outputs": [],
      "source": [
        "def user_input():\n",
        "    try:\n",
        "        user_input_value = int(input())            \n",
        "        return user_input_value\n",
        "    except ValueError:\n",
        "        return user_input()"
      ]
    },
    {
      "cell_type": "code",
      "execution_count": null,
      "metadata": {},
      "outputs": [],
      "source": [
        "n = user_input()\n",
        "\n",
        "list_ = []\n",
        "for _ in range(n):\n",
        "    list_.append(user_input())\n",
        "\n",
        "max_element = max(list_)\n",
        "list_.index(max_element)"
      ]
    }
  ],
  "metadata": {
    "colab": {
      "provenance": [],
      "toc_visible": true
    },
    "kernelspec": {
      "display_name": "Python 3.9.12 ('base')",
      "language": "python",
      "name": "python3"
    },
    "language_info": {
      "codemirror_mode": {
        "name": "ipython",
        "version": 3
      },
      "file_extension": ".py",
      "mimetype": "text/x-python",
      "name": "python",
      "nbconvert_exporter": "python",
      "pygments_lexer": "ipython3",
      "version": "3.12.4"
    },
    "vscode": {
      "interpreter": {
        "hash": "e4af6128c7e0808fede432f38729c473c5b0d80882e83c469acdb54455c56396"
      }
    }
  },
  "nbformat": 4,
  "nbformat_minor": 0
}
