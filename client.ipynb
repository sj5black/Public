{
 "cells": [
  {
   "cell_type": "code",
   "execution_count": null,
   "id": "a552562b",
   "metadata": {},
   "outputs": [
    {
     "name": "stdout",
     "output_type": "stream",
     "text": [
      "서버 응답 : 요리\n"
     ]
    }
   ],
   "source": [
    "import requests\n",
    "\n",
    "BASE_URL = \"http://127.0.0.1:8000\"\n",
    "\n",
    "# POST 요청 데이터\n",
    "query = {\"user\": \"Teddy\", \"message\": \"안녕?\"}\n",
    "response = requests.post(f\"{BASE_URL}/echo\", json=query)\n",
    "\n",
    "print(\"서버 응답 :\", response.json())"
   ]
  }
 ],
 "metadata": {
  "kernelspec": {
   "display_name": "vibecoding",
   "language": "python",
   "name": "python3"
  },
  "language_info": {
   "codemirror_mode": {
    "name": "ipython",
    "version": 3
   },
   "file_extension": ".py",
   "mimetype": "text/x-python",
   "name": "python",
   "nbconvert_exporter": "python",
   "pygments_lexer": "ipython3",
   "version": "3.11.13"
  }
 },
 "nbformat": 4,
 "nbformat_minor": 5
}
