{
 "cells": [
  {
   "cell_type": "code",
   "execution_count": null,
   "id": "b06b0460",
   "metadata": {},
   "outputs": [],
   "source": [
    "print(\"Hello, World!\")"
   ]
  },
  {
   "cell_type": "code",
   "execution_count": null,
   "id": "288180fe",
   "metadata": {},
   "outputs": [],
   "source": [
    "name = \"Chatbot\"\n",
    "\n",
    "print(name)"
   ]
  },
  {
   "cell_type": "code",
   "execution_count": null,
   "id": "ad90dbea",
   "metadata": {},
   "outputs": [],
   "source": [
    "name = input()\n",
    "print(f\"Hello, {name}!\")"
   ]
  },
  {
   "cell_type": "code",
   "execution_count": null,
   "id": "e39d3768",
   "metadata": {},
   "outputs": [],
   "source": [
    "text = \"Hello\"                # 문자열\n",
    "num = 10                      # 정수\n",
    "pi = 3.14                     # 실수\n",
    "fruits = [\"사과\", \"바나나\"]   # 리스트\n",
    "student = {\"이름\": \"철수\", \"나이\": 12}  # 딕셔너리\n",
    "\n",
    "print(type(text))\n",
    "print(type(num))\n",
    "print(type(pi))\n",
    "print(type(fruits))\n",
    "print(type(student))"
   ]
  },
  {
   "cell_type": "code",
   "execution_count": null,
   "id": "74f8b035",
   "metadata": {},
   "outputs": [],
   "source": [
    "age = 20\n",
    "\n",
    "if age >= 19:\n",
    "    print(\"성인입니다\")\n",
    "elif age >= 14:\n",
    "    print(\"청소년입니다\")\n",
    "else:\n",
    "    print(\"어린이입니다\")\n",
    "\n",
    "# if age <= 19 and age >= 14:\n",
    "#     print(\"청소년입니다\")\n",
    "\n",
    "# if not age >= 14:\n",
    "#     print(\"어린이입니다\")"
   ]
  },
  {
   "cell_type": "code",
   "execution_count": null,
   "id": "773cf826",
   "metadata": {},
   "outputs": [],
   "source": [
    "i = 0\n",
    "\n",
    "while i < 3:\n",
    "    print(\"Count\",i)\n",
    "    i+=1"
   ]
  },
  {
   "cell_type": "code",
   "execution_count": null,
   "id": "be70fa58",
   "metadata": {},
   "outputs": [],
   "source": [
    "for i in range(3):\n",
    "    print(\"Count\", i)"
   ]
  },
  {
   "cell_type": "code",
   "execution_count": null,
   "id": "8f543f23",
   "metadata": {},
   "outputs": [],
   "source": [
    "for i in [\"James\", \"John\", \"Joy\"]:\n",
    "    print(\"Hello!\", i)"
   ]
  },
  {
   "cell_type": "code",
   "execution_count": null,
   "id": "50e4c8fe",
   "metadata": {},
   "outputs": [],
   "source": [
    "def greet(name):\n",
    "    return f\"Hello, {name}\"\n",
    "\n",
    "print(greet(\"Smith\"))"
   ]
  },
  {
   "cell_type": "code",
   "execution_count": null,
   "id": "965ddbe0",
   "metadata": {},
   "outputs": [],
   "source": [
    "class Person:\n",
    "    def __init__(self, name, age:int = \"1\"):\n",
    "        self.name = name\n",
    "        self.age = age\n",
    "\n",
    "    def introduce(self):\n",
    "        return f\"저는 {self.name}이고, {self.age}살 입니다.\"\n",
    "\n",
    "p = Person(\"철수\")\n",
    " \n",
    "print(p.introduce())"
   ]
  },
  {
   "cell_type": "code",
   "execution_count": null,
   "id": "7d81d1e4",
   "metadata": {},
   "outputs": [],
   "source": [
    "class AI:\n",
    "    def __init__(self, name = \"GPT\", age):\n",
    "        self.name = name\n",
    "        self.age = age\n",
    "\n",
    "    def introduce(self):\n",
    "        return f\"저는 {self.name}이고, {self.age}살 입니다.\"\n",
    "    \n",
    "p = AI(24)\n",
    " \n",
    "print(p.introduce())"
   ]
  },
  {
   "cell_type": "code",
   "execution_count": null,
   "id": "6091f70b",
   "metadata": {},
   "outputs": [],
   "source": [
    "number = \"21\"\n",
    "age = \"21살\"\n",
    "print(int(number))\n",
    "# print(int(age))"
   ]
  },
  {
   "cell_type": "code",
   "execution_count": null,
   "id": "0c8c1825",
   "metadata": {},
   "outputs": [],
   "source": [
    "try:\n",
    "    x = int(\"hello\")  # 문자열을 숫자로 변환 → 오류 발생\n",
    "except ValueError:\n",
    "    print(\"숫자로 변환할 수 없습니다.\")"
   ]
  },
  {
   "cell_type": "code",
   "execution_count": null,
   "id": "227a1d2b",
   "metadata": {},
   "outputs": [],
   "source": [
    "# math 모듈 전체 불러오기\n",
    "import math\n",
    "print(math.sqrt(16))\n",
    "\n",
    "# 모듈에서 특정 함수만 불러오기\n",
    "from math import sqrt\n",
    "print(sqrt(25))\n",
    "\n",
    "# 모듈에 별칭(alias) 붙여서 불러오기\n",
    "import math as m\n",
    "print(m.pi)"
   ]
  },
  {
   "cell_type": "code",
   "execution_count": null,
   "id": "ef483192",
   "metadata": {},
   "outputs": [],
   "source": [
    "def main():\n",
    "    print(\"이 파일을 직접 실행했을 때만 동작합니다.\")\n",
    "\n",
    "if __name__ == \"__main__\":\n",
    "    main()"
   ]
  }
 ],
 "metadata": {
  "kernelspec": {
   "display_name": "vibecoding",
   "language": "python",
   "name": "python3"
  },
  "language_info": {
   "codemirror_mode": {
    "name": "ipython",
    "version": 3
   },
   "file_extension": ".py",
   "mimetype": "text/x-python",
   "name": "python",
   "nbconvert_exporter": "python",
   "pygments_lexer": "ipython3",
   "version": "3.11.13"
  }
 },
 "nbformat": 4,
 "nbformat_minor": 5
}
