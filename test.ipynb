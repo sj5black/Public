{
 "cells": [
  {
   "cell_type": "markdown",
   "id": "ac3193a0",
   "metadata": {},
   "source": [
    "### 변수"
   ]
  },
  {
   "cell_type": "code",
   "execution_count": null,
   "id": "b06b0460",
   "metadata": {},
   "outputs": [],
   "source": [
    "print(\"Hello, World!\")"
   ]
  },
  {
   "cell_type": "code",
   "execution_count": null,
   "id": "288180fe",
   "metadata": {},
   "outputs": [],
   "source": [
    "name = \"Chatbot\"\n",
    "\n",
    "print(name)"
   ]
  },
  {
   "cell_type": "code",
   "execution_count": null,
   "id": "ad90dbea",
   "metadata": {},
   "outputs": [],
   "source": [
    "name = input()\n",
    "print(f\"Hello, {name}!\")"
   ]
  },
  {
   "cell_type": "markdown",
   "id": "42165de0",
   "metadata": {},
   "source": [
    "### 자료형"
   ]
  },
  {
   "cell_type": "code",
   "execution_count": null,
   "id": "e39d3768",
   "metadata": {},
   "outputs": [],
   "source": [
    "# 단일 자료형\n",
    "num = 10         # 정수\n",
    "pi = 3.14        # 실수\n",
    "status = True    # 논리형 (boolean)\n",
    "\n",
    "# 시퀀스 자료형 [start : stop : step]\n",
    "text = \"Hello\"                        # 문자열\n",
    "fruits = [\"사과\", \"바나나\", \"딸기\"]     # 리스트\n",
    "number = [1, 2, 3, 4, 5, 6, 7, 8, 9, 10]\n",
    "animal = (\"강아지\", \"고양이\", \"토끼\")    # 튜플\n",
    "\n",
    "# 매핑형\n",
    "student = {\"이름\": \"철수\", \"나이\": 26, \"로그인 체크\": True}   # 딕셔너리\n",
    "\n",
    "# 집합형\n",
    "people = {\"철수\", \"영희\", \"민수\"}                           # 셋(집합)\n",
    "\n",
    "print(type(text))\n",
    "print(type(num))\n",
    "print(type(pi))\n",
    "print(type(status))\n",
    "print(type(fruits))\n",
    "print(type(animal))\n",
    "print(type(student))\n",
    "print(type(people))\n",
    "\n",
    "# 타입 변환\n",
    "number = \"21\"\n",
    "age = \"21살\"\n",
    "print(int(number))\n",
    "# print(int(age))"
   ]
  },
  {
   "cell_type": "code",
   "execution_count": null,
   "id": "39f89902",
   "metadata": {},
   "outputs": [],
   "source": [
    "print(text[0])\n",
    "print(fruits[2])\n",
    "print(animal[-1])\n",
    "print(student[\"나이\"])\n",
    "print(people - {\"민수\"})\n",
    "\n",
    "print(len(animal))\n",
    "print(number[1:5])\n",
    "print(number[1:5:2])\n",
    "print(fruits[::])"
   ]
  },
  {
   "cell_type": "markdown",
   "id": "5254fb07",
   "metadata": {},
   "source": [
    "### 자료형 - 리스트"
   ]
  },
  {
   "cell_type": "code",
   "execution_count": null,
   "id": "b730570b",
   "metadata": {},
   "outputs": [],
   "source": [
    "fruits = [\"사과\", \"바나나\", \"참외\"]\n",
    "\n",
    "# 요소 추가\n",
    "fruits.append(\"포도\")             # 리스트 끝에 추가\n",
    "fruits.insert(1, \"딸기\")          # 원하는 위치에 삽입\n",
    "fruits.extend([\"망고\", \"복숭아\"])  # 여러 요소 추가\n",
    "\n",
    "# 요소 삭제\n",
    "fruits.pop()            # 마지막 요소 제거\n",
    "fruits.pop(0)           # 인덱스로 제거\n",
    "fruits.remove(\"바나나\")  # 값으로 제거\n",
    "\n",
    "# 요소 탐색\n",
    "print(fruits.index(\"참외\"))  # \"참외\"의 인덱스값(번호)\n",
    "print(fruits.count(\"참외\"))  # fruits에 \"참외\"가 포함된 갯수 "
   ]
  },
  {
   "cell_type": "code",
   "execution_count": null,
   "id": "fccd0558",
   "metadata": {},
   "outputs": [],
   "source": [
    "\n",
    "nums = [3, 1, 4, 2]\n",
    "\n",
    "# 요소 정렬\n",
    "nums.sort()              # 오름차순 정렬\n",
    "nums.sort(reverse=True)  # 내림차순 정렬\n",
    "nums.reverse()           # 순서 뒤집기\n",
    "\n",
    "# 리스트 복사 - 원본\n",
    "a = [1, 2, 3]\n",
    "b = a\n",
    "b[0] = 100\n",
    "print(a)  # [100, 2, 3]\n",
    "print(b)  # [100, 2, 3]\n",
    "\n",
    "# 리스트 복사 - 사본\n",
    "a = [1, 2, 3]\n",
    "c = a.copy()\n",
    "c[0] = 100\n",
    "print(a)  # [1, 2, 3]\n",
    "print(c)  # [100, 2, 3]"
   ]
  },
  {
   "cell_type": "markdown",
   "id": "907a7fe0",
   "metadata": {},
   "source": [
    "### 자료형 - 딕셔너리"
   ]
  },
  {
   "cell_type": "code",
   "execution_count": null,
   "id": "df6f474a",
   "metadata": {},
   "outputs": [],
   "source": [
    "user = {\"name\": \"Alice\", \"age\": 25}\n",
    "\n",
    "# # 조회\n",
    "# user[\"name\"]      # 없으면 에러 발생 O\n",
    "# user.get(\"name\")  # 없어도 에러 발생 X\n",
    "\n",
    "# # 추가 & 수정\n",
    "# user[\"email\"] = \"alice@example.com\"       # 추가\n",
    "# user[\"age\"] = 26                          # 수정\n",
    "# user.update({\"name\": \"Joy\", \"age\": 23})   # 여러개 수정\n",
    "# # 삭제\n",
    "# del user[\"name\"]       # 없으면 에러 발생 O\n",
    "# user.pop(\"name\")       # 없어도 에러 발생 X\n",
    "# user.clear()           # 전체 삭제\n",
    "\n",
    "print(user)"
   ]
  },
  {
   "cell_type": "code",
   "execution_count": null,
   "id": "613290f8",
   "metadata": {},
   "outputs": [],
   "source": [
    "person = {\"name\": \"Bob\", \"age\": 30}\n",
    "\n",
    "for key in person:               # key만 출력\n",
    "    print(key)\n",
    "\n",
    "for value in person.values():    # value만 출력\n",
    "    print(value)\n",
    "\n",
    "for key, value in person.items():  # key, value 동시에\n",
    "    print(key, \":\", value)\n"
   ]
  },
  {
   "cell_type": "markdown",
   "id": "31fc8298",
   "metadata": {},
   "source": [
    "### 연산자 (사칙, 비교, 논리)"
   ]
  },
  {
   "cell_type": "code",
   "execution_count": null,
   "id": "1ec00c0d",
   "metadata": {},
   "outputs": [],
   "source": [
    "a, b = 11, 4\n",
    "\n",
    "# 사칙연산\n",
    "print(a + b)   # 15   (더하기)\n",
    "print(a - b)   # 7    (빼기)\n",
    "print(a * b)   # 44   (곱하기)\n",
    "print(a / b)   # 2.75  (나누기)\n",
    "\n",
    "print(a // b)  # 2     (몫)\n",
    "print(a % b)   # 3     (나머지)"
   ]
  },
  {
   "cell_type": "code",
   "execution_count": null,
   "id": "01b1515b",
   "metadata": {},
   "outputs": [],
   "source": [
    "# 비교연산\n",
    "print(a == b)   # False (같은가?)\n",
    "print(a != b)   # True  (다른가?)\n",
    "print(a > b)    # True\n",
    "print(a < b)    # False\n",
    "print(a >= 11)  # True\n",
    "print(b <= 2)   # False"
   ]
  },
  {
   "cell_type": "code",
   "execution_count": null,
   "id": "f4d534a1",
   "metadata": {},
   "outputs": [],
   "source": [
    "# 논리연산\n",
    "T, F = True, False\n",
    "\n",
    "print(not T)   # False\n",
    "print(not F)   # True\n",
    "print(T and T)   # True\n",
    "print(T and F)   # False\n",
    "print(F and F)   # False\n",
    "print(T or T)   # True\n",
    "print(T or F)   # True\n",
    "print(F or F)   # False"
   ]
  },
  {
   "cell_type": "markdown",
   "id": "9cb4f29f",
   "metadata": {},
   "source": [
    "### 조건문"
   ]
  },
  {
   "cell_type": "code",
   "execution_count": null,
   "id": "74f8b035",
   "metadata": {},
   "outputs": [],
   "source": [
    "age = 20\n",
    "\n",
    "if age >= 19:\n",
    "    print(\"성인입니다\")\n",
    "elif age >= 14:\n",
    "    print(\"청소년입니다\")\n",
    "else:\n",
    "    print(\"어린이입니다\")\n",
    "\n",
    "# if age <= 19 and age >= 14:\n",
    "#     print(\"청소년입니다\")\n",
    "\n",
    "# if not age >= 14:\n",
    "#     print(\"어린이입니다\")"
   ]
  },
  {
   "cell_type": "code",
   "execution_count": null,
   "id": "214ceeca",
   "metadata": {},
   "outputs": [],
   "source": [
    "point = (3, 0)\n",
    "\n",
    "# if/elif 버전\n",
    "if point[0] == 0 and point[1] == 0:\n",
    "    print(f\"원점에 있음: (x,y)=({point[0]},{point[1]})\")\n",
    "elif point[0] != 0 and point[1] == 0:\n",
    "    print(f\"x축에 있음: x={point[0]}\")\n",
    "elif point[0] == 0 and point[1] != 0:\n",
    "    print(f\"y축에 있음: y={point[1]}\")\n",
    "else:\n",
    "    print(f\"좌표 ({point[0]}, {point[1]})\")"
   ]
  },
  {
   "cell_type": "code",
   "execution_count": null,
   "id": "e1ee0a73",
   "metadata": {},
   "outputs": [],
   "source": [
    "point = (3, 0)\n",
    "\n",
    "match point:\n",
    "    case (0, 0):\n",
    "        print(f\"원점에 있음: (x,y)=(0,0)\")\n",
    "    case (x, 0):\n",
    "        print(f\"x축에 있음: x={x}\")\n",
    "    case (0, y):\n",
    "        print(f\"y축에 있음: y={y}\")\n",
    "    case (x, y):\n",
    "        print(f\"좌표 ({x}, {y})\")"
   ]
  },
  {
   "cell_type": "markdown",
   "id": "6526166b",
   "metadata": {},
   "source": [
    "### 반복문"
   ]
  },
  {
   "cell_type": "code",
   "execution_count": null,
   "id": "773cf826",
   "metadata": {},
   "outputs": [],
   "source": [
    "i = 0   # 루프 변수\n",
    "\n",
    "while i < 3:\n",
    "    print(\"Count\",i)\n",
    "    i+=1"
   ]
  },
  {
   "cell_type": "code",
   "execution_count": null,
   "id": "be70fa58",
   "metadata": {},
   "outputs": [],
   "source": [
    "for i in range(6):\n",
    "    print(\"Count\", i)"
   ]
  },
  {
   "cell_type": "code",
   "execution_count": null,
   "id": "268e4f71",
   "metadata": {},
   "outputs": [],
   "source": [
    "for i in range(1,6):\n",
    "    print(\"Count\", i)"
   ]
  },
  {
   "cell_type": "code",
   "execution_count": null,
   "id": "a08ee406",
   "metadata": {},
   "outputs": [],
   "source": [
    "for i in range(1,6,2):\n",
    "    print(\"Count\", i)"
   ]
  },
  {
   "cell_type": "code",
   "execution_count": null,
   "id": "027d5945",
   "metadata": {},
   "outputs": [],
   "source": [
    "for i in range(6,1,-1):\n",
    "    print(\"Count\", i)"
   ]
  },
  {
   "cell_type": "code",
   "execution_count": null,
   "id": "8f543f23",
   "metadata": {},
   "outputs": [],
   "source": [
    "for i in [\"James\", \"John\", \"Joy\"]:\n",
    "    print(\"Hello!\", i)\n",
    "else :\n",
    "    print(\"\\nFinished greeting!\")"
   ]
  },
  {
   "cell_type": "code",
   "execution_count": null,
   "id": "35cbf232",
   "metadata": {},
   "outputs": [],
   "source": [
    "fruits = [\"사과\", \"바나나\", \"포도\"]\n",
    "\n",
    "for i, fruit in enumerate(fruits):\n",
    "    print(f\"{i}번째 과일: {fruit}\")"
   ]
  },
  {
   "cell_type": "code",
   "execution_count": null,
   "id": "c210bd15",
   "metadata": {},
   "outputs": [],
   "source": [
    "fruits = [\"사과\", \"바나나\", \"포도\"]\n",
    "\n",
    "for i, fruit in enumerate(fruits, start=1):\n",
    "    print(f\"{i}번째 과일: {fruit}\")"
   ]
  },
  {
   "cell_type": "code",
   "execution_count": null,
   "id": "b171f659",
   "metadata": {},
   "outputs": [],
   "source": [
    "for i in range(1,11):\n",
    "    if i % 3 == 0:\n",
    "        break\n",
    "        # continue\n",
    "        # pass\n",
    "    print(i)"
   ]
  },
  {
   "cell_type": "markdown",
   "id": "f4b66c9b",
   "metadata": {},
   "source": [
    "### 예외처리 구문"
   ]
  },
  {
   "cell_type": "code",
   "execution_count": null,
   "id": "0c8c1825",
   "metadata": {},
   "outputs": [],
   "source": [
    "try:\n",
    "    x = int(\"hello\")  # 문자열을 숫자로 변환 → 오류 발생\n",
    "except ValueError:\n",
    "    print(\"숫자로 변환할 수 없습니다.\")\n",
    "finally:\n",
    "    print(\"\\n예외처리 검증 완료\")"
   ]
  },
  {
   "cell_type": "markdown",
   "id": "3a25d4bc",
   "metadata": {},
   "source": [
    "### 함수"
   ]
  },
  {
   "cell_type": "code",
   "execution_count": null,
   "id": "50e4c8fe",
   "metadata": {},
   "outputs": [],
   "source": [
    "def greet(name):\n",
    "    return f\"Hello, {name}\"\n",
    "\n",
    "print(greet(\"Smith\"))"
   ]
  },
  {
   "cell_type": "code",
   "execution_count": null,
   "id": "c7734e65",
   "metadata": {},
   "outputs": [],
   "source": [
    "def calculate(a, b):\n",
    "    return a+b, a-b, a*b\n",
    "\n",
    "print(calculate(5, 3))"
   ]
  },
  {
   "cell_type": "code",
   "execution_count": null,
   "id": "22ce05fa",
   "metadata": {},
   "outputs": [],
   "source": [
    "# 가변 파라미터 (위치 기반 - 튜플)\n",
    "def add_all(*numbers):\n",
    "    return numbers[0] + numbers[1]\n",
    "\n",
    "print(add_all(1, 2, 3, 4, 5))"
   ]
  },
  {
   "cell_type": "code",
   "execution_count": null,
   "id": "c9c17bc5",
   "metadata": {},
   "outputs": [],
   "source": [
    "# 가변 파라미터 (키워드 기반 - 딕셔너리)\n",
    "def print_info(**info):\n",
    "    for key, value in info.items():\n",
    "        print(f\"{key}: {value}\")\n",
    "\n",
    "print_info(name=\"Jane\", age=30, city=\"Seoul\")"
   ]
  },
  {
   "cell_type": "code",
   "execution_count": null,
   "id": "fa1fd63c",
   "metadata": {},
   "outputs": [],
   "source": [
    "def order_food(main_dish, *args, **kwargs):\n",
    "    print(f\"메인 요리: {main_dish}\")\n",
    "\n",
    "    if args:  # 추가 토핑들\n",
    "        print(\"추가 토핑:\", \", \".join(args))\n",
    "\n",
    "    if kwargs:  # 주문 옵션\n",
    "        for key, value in kwargs.items():\n",
    "            print(f\"{key}: {value}\")\n",
    "\n",
    "\n",
    "# 사용 예시\n",
    "order_food(\"피자\", \"치즈\", \"올리브\", \"양상추\", size=\"Large\", takeout=True, cost=\"6,500원\")"
   ]
  },
  {
   "cell_type": "code",
   "execution_count": null,
   "id": "ebc63244",
   "metadata": {},
   "outputs": [],
   "source": [
    "# 람다 함수\n",
    "square = lambda x: x * x\n",
    "print(square(4))"
   ]
  },
  {
   "cell_type": "markdown",
   "id": "3925b879",
   "metadata": {},
   "source": [
    "### 클래스"
   ]
  },
  {
   "cell_type": "code",
   "execution_count": null,
   "id": "965ddbe0",
   "metadata": {},
   "outputs": [],
   "source": [
    "class Person:\n",
    "    def __init__(self, name, age:int = \"1\"):\n",
    "        self.name = name\n",
    "        self.age = age\n",
    "\n",
    "    def introduce(self):\n",
    "        return f\"저는 {self.name}이고, {self.age}살 입니다.\"\n",
    "\n",
    "p = Person(\"철수\")\n",
    " \n",
    "print(p.introduce())"
   ]
  },
  {
   "cell_type": "code",
   "execution_count": null,
   "id": "7d81d1e4",
   "metadata": {},
   "outputs": [],
   "source": [
    "class AI:\n",
    "    def __init__(self, name = \"GPT\", age):\n",
    "        self.name = name\n",
    "        self.age = age\n",
    "\n",
    "    def introduce(self):\n",
    "        return f\"저는 {self.name}이고, {self.age}살 입니다.\"\n",
    "    \n",
    "p = AI(24)\n",
    " \n",
    "print(p.introduce())"
   ]
  },
  {
   "cell_type": "markdown",
   "id": "3660709d",
   "metadata": {},
   "source": [
    "### 클래스 - 상속과 다형성"
   ]
  },
  {
   "cell_type": "code",
   "execution_count": null,
   "id": "3eeae664",
   "metadata": {},
   "outputs": [],
   "source": [
    "# 부모 클래스\n",
    "class Animal:\n",
    "    def __init__(self, name):\n",
    "        self.name = name\n",
    "\n",
    "    def speak(self):\n",
    "        print(f\"{self.name}이(가) 소리를 냅니다.\")\n",
    "\n",
    "# 자식 클래스 1\n",
    "class Dog(Animal):\n",
    "    def speak(self):\n",
    "        print(f\"{self.name}이(가) 멍멍 짖습니다.\")\n",
    "\n",
    "# 자식 클래스 2\n",
    "class Cat(Animal):\n",
    "    def speak(self):\n",
    "        print(f\"{self.name}이(가) 야옹 합니다.\")\n",
    "\n",
    "# 자식 클래스 3\n",
    "class Bird(Animal):\n",
    "    def speak(self):\n",
    "        print(f\"{self.name}이(가) 짹짹 노래합니다.\")\n",
    "\n",
    "# 다형성 예시\n",
    "animals = [Dog(\"바둑이\"), Cat(\"나비\"), Bird(\"참새\")]\n",
    "\n",
    "for a in animals:\n",
    "    a.speak()  # 같은 메서드 호출이지만 객체 타입마다 다른 결과"
   ]
  },
  {
   "cell_type": "markdown",
   "id": "12e278c2",
   "metadata": {},
   "source": [
    "상속 - Dog, Cat, Bird는 Animal을 상속받음.  \n",
    "오버라이딩 - 각 클래스에서 speak()를 자기 방식대로 재정의.  \n",
    "다형성 - 같은 a.speak() 호출인데 결과가 다 다름."
   ]
  },
  {
   "cell_type": "code",
   "execution_count": null,
   "id": "227a1d2b",
   "metadata": {},
   "outputs": [],
   "source": [
    "# math 모듈 전체 불러오기\n",
    "import math\n",
    "print(math.sqrt(16))\n",
    "\n",
    "# 모듈에서 특정 함수만 불러오기\n",
    "from math import sqrt\n",
    "print(sqrt(25))\n",
    "\n",
    "# 모듈에 별칭(alias) 붙여서 불러오기\n",
    "import math as m\n",
    "print(m.pi)"
   ]
  },
  {
   "cell_type": "code",
   "execution_count": null,
   "id": "ef483192",
   "metadata": {},
   "outputs": [],
   "source": [
    "def main():\n",
    "    print(\"이 파일을 직접 실행했을 때만 동작합니다.\")\n",
    "\n",
    "if __name__ == \"__main__\":\n",
    "    main()"
   ]
  }
 ],
 "metadata": {
  "kernelspec": {
   "display_name": "vibecoding",
   "language": "python",
   "name": "python3"
  },
  "language_info": {
   "codemirror_mode": {
    "name": "ipython",
    "version": 3
   },
   "file_extension": ".py",
   "mimetype": "text/x-python",
   "name": "python",
   "nbconvert_exporter": "python",
   "pygments_lexer": "ipython3",
   "version": "3.11.13"
  }
 },
 "nbformat": 4,
 "nbformat_minor": 5
}
